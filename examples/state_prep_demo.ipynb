{
 "cells": [
  {
   "cell_type": "markdown",
   "id": "995da531",
   "metadata": {},
   "source": [
    "# QOSF Task 2 — Complex Amplitudes\n",
    "# (two-qubits and three-qubits states)\n",
    "\n",
    "This notebook demonstrates a **quantum framework-agnostic** routine to prepare quantum states from complex amplitudes **without** high-level initializers.\n",
    "\n",
    "**Contents**\n",
    "1. Method overview (Householder reflection)\n",
    "2. 2-qubit demo (end-to-end)\n",
    "3. 3-qubit demo (end-to-end)\n",
    "4. Validation (unitarity, global-phase alignment)\n",
    "5. Experiment (brief)\n",
    "6. Gotchas & next steps"
   ]
  },
  {
   "cell_type": "code",
   "execution_count": 1,
   "id": "22d40900",
   "metadata": {},
   "outputs": [],
   "source": [
    "import numpy as np\n",
    "import numpy.linalg as la\n",
    "import matplotlib.pyplot as plt\n",
    "\n",
    "from state_prep import (\n",
    "    normalize_amplitudes,\n",
    "    state_vector_from_amplitudes,\n",
    "    householder_unitary_for_state,\n",
    "    prepare_state_unitary,\n",
    "    apply_unitary_to_zero,\n",
    "    global_phase_align,\n",
    ")\n",
    "\n",
    "np.set_printoptions(precision=4, suppress=True)"
   ]
  },
  {
   "cell_type": "markdown",
   "id": "6e3a073a",
   "metadata": {},
   "source": [
    "## 1. Method overview\n",
    "\n",
    "Given a **normalized** target state vector \\( \\psi \\in \\mathbb{C}^{2^n} \\), we seek a unitary \\( U \\) such that \\( U\\,e_1 = \\psi \\), where \\( e_1 = [1,0,\\dots,0]^T \\) encodes \\(|0\\ldots 0\\rangle\\).\n",
    "\n",
    "We use a (complex) **Householder reflection**:\n",
    "\n",
    "\\[\n",
    "v = \\frac{e_1 - \\psi}{\\|e_1 - \\psi\\|}, \\qquad H = I - 2\\, v v^\\dagger.\n",
    "\\]\n",
    "\n",
    "Then \\( H e_1 = \\psi \\). If \\( \\psi \\approx e_1 \\), we fallback to \\( I \\) for numerical stability."
   ]
  },
  {
   "cell_type": "markdown",
   "id": "fe50ebf5",
   "metadata": {},
   "source": [
    "## 2. 2-qubit demo (4 amplitudes)\n",
    "\n",
    "End-to-end path: amplitudes → normalized state \\(\\psi\\) → unitary \\(U\\) → check that \\(U|00\\rangle = \\psi\\) up to a global phase.\n"
   ]
  },
  {
   "cell_type": "markdown",
   "id": "c4f35fcd",
   "metadata": {},
   "source": [
    "## 3. 3-qubit demo (8 amplitudes)\n",
    "\n",
    "Same workflow as for 2 qubits, but with 8 complex amplitudes."
   ]
  }
 ],
 "metadata": {
  "kernelspec": {
   "display_name": ".venv",
   "language": "python",
   "name": "python3"
  },
  "language_info": {
   "codemirror_mode": {
    "name": "ipython",
    "version": 3
   },
   "file_extension": ".py",
   "mimetype": "text/x-python",
   "name": "python",
   "nbconvert_exporter": "python",
   "pygments_lexer": "ipython3",
   "version": "3.12.0"
  }
 },
 "nbformat": 4,
 "nbformat_minor": 5
}
